{
 "cells": [
  {
   "cell_type": "code",
   "execution_count": 1,
   "metadata": {},
   "outputs": [],
   "source": [
    "import os, sys\n",
    "root_dir, _ = os.path.split(os.getcwd())\n",
    "script_dir = os.path.join(root_dir, 'scripts')\n",
    "sys.path.append(script_dir)\n",
    "sys.path.append('/home/victor/miniconda3/')\n",
    "os.environ['CUDA_VISIBLE_DEVICES'] = '-1'\n",
    "from hparams import hparams"
   ]
  },
  {
   "cell_type": "code",
   "execution_count": 2,
   "metadata": {},
   "outputs": [],
   "source": [
    "import tensorflow as tf"
   ]
  },
  {
   "cell_type": "code",
   "execution_count": 3,
   "metadata": {},
   "outputs": [],
   "source": [
    "%load_ext tensorboard"
   ]
  },
  {
   "cell_type": "code",
   "execution_count": 4,
   "metadata": {},
   "outputs": [],
   "source": [
    "from tensorboard import notebook"
   ]
  },
  {
   "cell_type": "code",
   "execution_count": 5,
   "metadata": {},
   "outputs": [
    {
     "name": "stdout",
     "output_type": "stream",
     "text": [
      "Known TensorBoard instances:\n",
      "  - port 6009: logdir runs (started 6 days, 23:50:38 ago; pid 27652)\n",
      "  - port 6009: logdir hydrogen_molecule/ (started 50 days, 2:25:48 ago; pid 28241)\n",
      "  - port 6013: logdir results (started 48 days, 22:38:18 ago; pid 5807)\n",
      "  - port 6012: logdir hydrogen_molecule (started 48 days, 4:35:44 ago; pid 25280)\n",
      "  - port 6009: logdir gaussian_bosons/ (started 54 days, 3:29:15 ago; pid 37443)\n",
      "  - port 6058: logdir /home/victor/Projects/Github/waveglow-tensorflow2/logs/float32 (started 100 days, 2:28:21 ago; pid 2723)\n",
      "  - port 6008: logdir helium (started 57 days, 5:28:16 ago; pid 29072)\n",
      "  - port 6009: logdir gaussian_bosons/ (started 54 days, 5:57:20 ago; pid 35345)\n",
      "  - port 6009: logdir runs (started 48 days, 14:24:21 ago; pid 22467)\n",
      "  - port 6001: logdir /home/victor/Projects/Github/waveglow-compression/logs/float32 (started 98 days, 0:18:42 ago; pid 4403)\n",
      "  - port 6008: logdir ../../forge_files/results/gaussian_bosons (started 55 days, 23:27:42 ago; pid 37244)\n",
      "  - port 6009: logdir hydrogen_molecule/ (started 51 days, 18:03:18 ago; pid 21805)\n",
      "  - port 6012: logdir runs_state_var/ (started 6 days, 22:53:18 ago; pid 29304)\n",
      "  - port 6010: logdir helium/ (started 47 days, 16:31:02 ago; pid 20365)\n",
      "  - port 6010: logdir results (started 47 days, 5:24:36 ago; pid 26475)\n",
      "  - port 6002: logdir /home/victor/Projects/Github/waveglow-compression/logs/compression (started 74 days, 23:49:41 ago; pid 25343)\n",
      "  - port 6009: logdir ../../forge_files/results/gaussian_bosons (started 54 days, 19:46:06 ago; pid 37303)\n",
      "  - port 6009: logdir rl4qm/forge_files/results (started 58 days, 16:38:34 ago; pid 17287)\n",
      "  - port 6008: logdir ../../forge_files/results/helium (started 56 days, 1:14:55 ago; pid 34232)\n",
      "  - port 6008: logdir helium (started 58 days, 5:43:37 ago; pid 21257)\n",
      "  - port 6015: logdir runs_state_var (started 6 days, 21:04:59 ago; pid 31342)\n",
      "  - port 6011: logdir hydrogen (started 47 days, 16:11:42 ago; pid 20825)\n",
      "  - port 6008: logdir ../../forge_files/results/helium (started 58 days, 16:39:56 ago; pid 17153)\n",
      "  - port 6014: logdir results/gaussian_bosons3 (started 48 days, 21:59:48 ago; pid 16537)\n",
      "  - port 6009: logdir helium (started 48 days, 4:57:34 ago; pid 24659)\n",
      "  - port 6008: logdir runs/ (started 57 days, 19:48:47 ago; pid 24878)\n",
      "  - port 6009: logdir hydrogen_molecule/ (started 51 days, 4:56:02 ago; pid 24197)\n",
      "  - port 6003: logdir /home/victor/Projects/Github/waveglow-compression/logs/compression2 (started 6 days, 0:38:32 ago; pid 29377)\n",
      "  - port 6008: logdir helium (started 58 days, 5:41:37 ago; pid 21495)\n",
      "  - port 6008: logdir ../../forge_files/results/gaussian_bosons (started 55 days, 23:27:33 ago; pid 37341)\n",
      "  - port 6007: logdir runs (started 108 days, 20:31:46 ago; pid 8920)\n",
      "  - port 6009: logdir gaussian_bosons/ (started 54 days, 5:39:44 ago; pid 35660)\n",
      "  - port 6009: logdir runs/ (started 57 days, 5:25:30 ago; pid 29316)\n",
      "  - port 6013: logdir runs_cost_var/ (started 6 days, 22:19:17 ago; pid 29839)\n",
      "  - port 6008: logdir ../../forge_files/results/helium (started 59 days, 1:08:15 ago; pid 38561)\n",
      "  - port 6009: logdir gaussian_bosons/ (started 52 days, 23:42:58 ago; pid 11528)\n",
      "  - port 6011: logdir hydrogen (started 48 days, 4:35:55 ago; pid 25233)\n",
      "  - port 6009: logdir helium (started 48 days, 17:22:26 ago; pid 20051)\n",
      "  - port 6011: logdir results (started 46 days, 19:22:18 ago; pid 14521)\n",
      "  - port 6009: logdir hydrogen_molecule/ (started 51 days, 20:19:33 ago; pid 20947)\n",
      "  - port 6011: logdir helium_fix/ (started 49 days, 2:28:45 ago; pid 39257)\n",
      "  - port 6058: logdir /home/victor/Projects/Github/waveglow-tensorflow2/logs/float32 (started 100 days, 23:19:18 ago; pid 37313)\n",
      "  - port 6058: logdir /home/victor/Projects/Github/waveglow-tensorflow2/logs/float32 (started 100 days, 19:45:50 ago; pid 22664)\n",
      "  - port 6008: logdir ../../forge_files/results/gaussian_bosons_fix_all_but_one (started 55 days, 4:13:15 ago; pid 12244)\n",
      "  - port 6012: logdir helium (started 52 days, 23:25:57 ago; pid 12294)\n",
      "  - port 6008: logdir helium (started 58 days, 5:46:20 ago; pid 20882)\n",
      "  - port 6011: logdir helium_fix/ (started 52 days, 23:37:46 ago; pid 11815)\n",
      "  - port 6011: logdir gaussian_bosons/ (started 54 days, 4:39:05 ago; pid 36182)\n",
      "  - port 6011: logdir results/ (started 47 days, 3:55:28 ago; pid 29576)\n",
      "  - port 6008: logdir runs/ (started 58 days, 3:08:02 ago; pid 23614)\n",
      "  - port 6011: logdir runs_state_var (started 6 days, 23:36:56 ago; pid 28028)\n",
      "  - port 6008: logdir runs/ (started 45 days, 2:46:42 ago; pid 1136)\n",
      "  - port 6008: logdir ../../forge_files/results/helium (started 56 days, 1:14:47 ago; pid 34329)\n",
      "  - port 6009: logdir results/ (started 46 days, 18:20:45 ago; pid 15325)\n",
      "  - port 6008: logdir gaussian_bosons/ (started 55 days, 6:58:08 ago; pid 9051)\n",
      "  - port 6009: logdir hydrogen_molecule_wide/ (started 47 days, 5:48:43 ago; pid 26046)\n",
      "  - port 6008: logdir ../../forge_files/results/helium (started 59 days, 2:54:24 ago; pid 25723)\n",
      "  - port 6009: logdir hydrogen_molecule_wide/ (started 47 days, 18:44:08 ago; pid 18821)\n",
      "  - port 6009: logdir hydrogen_molecule/ (started 51 days, 15:37:32 ago; pid 22850)\n",
      "  - port 6058: logdir /home/victor/Projects/Github/waveglow-tensorflow2/logs/float32 (started 100 days, 17:37:26 ago; pid 33852)\n",
      "  - port 6006: logdir runs (started 109 days, 5:25:43 ago; pid 15054)\n",
      "  - port 6001: logdir /home/victor/Projects/Github/waveglow-compression/logs/float32 (started 97 days, 3:04:12 ago; pid 6456)\n",
      "  - port 6058: logdir /home/victor/Projects/Github/waveglow-tensorflow2/logs/float32 (started 100 days, 8:27:04 ago; pid 37385)\n",
      "  - port 6009: logdir helium_fix (started 49 days, 2:52:33 ago; pid 36152)\n",
      "  - port 6006: logdir runs (started 136 days, 20:14:06 ago; pid 4144)\n",
      "  - port 6014: logdir runs_cost_var (started 6 days, 22:00:11 ago; pid 30336)\n",
      "  - port 6009: logdir hydrogen_molecule/ (started 50 days, 1:39:16 ago; pid 28592)\n",
      "  - port 6058: logdir /home/victor/Projects/Github/waveglow-tensorflow2/logs/float32 (started 97 days, 23:10:58 ago; pid 6676)\n",
      "  - port 6009: logdir hydrogen_molecule_wide/ (started 47 days, 17:01:05 ago; pid 19767)\n",
      "  - port 6012: logdir gaussian_bosons/ (started 49 days, 0:25:04 ago; pid 2670)\n",
      "  - port 6013: logdir runs (started 48 days, 23:50:46 ago; pid 4149)\n",
      "  - port 6009: logdir ../../forge_files/results/gaussian_bosons (started 54 days, 21:32:59 ago; pid 32714)\n"
     ]
    }
   ],
   "source": [
    "notebook.list()"
   ]
  },
  {
   "cell_type": "code",
   "execution_count": 6,
   "metadata": {},
   "outputs": [],
   "source": [
    "log_dir, __ = os.path.split(hparams['log_dir'])"
   ]
  },
  {
   "cell_type": "code",
   "execution_count": null,
   "metadata": {},
   "outputs": [
    {
     "name": "stdout",
     "output_type": "stream",
     "text": [
      "Serving TensorBoard on localhost; to expose to the network, use a proxy or pass --bind_all\n",
      "TensorBoard 2.0.0 at http://localhost:6004/ (Press CTRL+C to quit)\n"
     ]
    }
   ],
   "source": [
    "!/home/victor/miniconda3/envs/craystack/bin/tensorboard --logdir $log_dir --port=6004"
   ]
  },
  {
   "cell_type": "code",
   "execution_count": null,
   "metadata": {},
   "outputs": [],
   "source": []
  },
  {
   "cell_type": "code",
   "execution_count": null,
   "metadata": {},
   "outputs": [],
   "source": []
  }
 ],
 "metadata": {
  "kernelspec": {
   "display_name": "waveglow-compression",
   "language": "python",
   "name": "waveglow-compression"
  },
  "language_info": {
   "codemirror_mode": {
    "name": "ipython",
    "version": 3
   },
   "file_extension": ".py",
   "mimetype": "text/x-python",
   "name": "python",
   "nbconvert_exporter": "python",
   "pygments_lexer": "ipython3",
   "version": "3.7.4"
  }
 },
 "nbformat": 4,
 "nbformat_minor": 4
}
