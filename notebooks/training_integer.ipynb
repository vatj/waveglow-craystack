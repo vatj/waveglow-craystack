{
 "cells": [
  {
   "cell_type": "markdown",
   "metadata": {},
   "source": [
    "# Train WaveGlow Model with custom training step"
   ]
  },
  {
   "cell_type": "markdown",
   "metadata": {},
   "source": [
    "## Boilerplate Import"
   ]
  },
  {
   "cell_type": "code",
   "execution_count": null,
   "metadata": {},
   "outputs": [],
   "source": [
    "import os, sys\n",
    "root_dir, _ = os.path.split(os.getcwd())\n",
    "script_dir = os.path.join(root_dir, 'scripts')\n",
    "sys.path.append(script_dir)\n",
    "os.environ['CUDA_VISIBLE_DEVICES'] = '2'"
   ]
  },
  {
   "cell_type": "code",
   "execution_count": null,
   "metadata": {},
   "outputs": [],
   "source": [
    "import tensorflow as tf"
   ]
  },
  {
   "cell_type": "code",
   "execution_count": null,
   "metadata": {},
   "outputs": [],
   "source": [
    "from hparams import hparams\n",
    "from waveglow_model_integer import WaveGlowInteger\n",
    "import training_utils as utils\n",
    "from waveglow_codec import compress_samples\n",
    "from datetime import datetime"
   ]
  },
  {
   "cell_type": "code",
   "execution_count": null,
   "metadata": {},
   "outputs": [],
   "source": [
    "tf.keras.backend.clear_session()\n",
    "tf.config.experimental.list_physical_devices('GPU')\n",
    "tf.keras.backend.set_floatx()\n",
    "# tf.debugging.set_log_device_placement(True)"
   ]
  },
  {
   "cell_type": "markdown",
   "metadata": {},
   "source": [
    "## Tensorboard logs setup"
   ]
  },
  {
   "cell_type": "code",
   "execution_count": null,
   "metadata": {},
   "outputs": [],
   "source": [
    "log_dir = os.path.join(hparams['log_dir'])\n",
    "file_writer = tf.summary.create_file_writer(log_dir)\n",
    "file_writer.set_as_default()"
   ]
  },
  {
   "cell_type": "markdown",
   "metadata": {},
   "source": [
    "## Load Validation and Training Dataset"
   ]
  },
  {
   "cell_type": "code",
   "execution_count": null,
   "metadata": {},
   "outputs": [],
   "source": [
    "validation_dataset = utils.load_single_file_tfrecords(\n",
    "  record_file=os.path.join(hparams['tfrecords_dir'], hparams['eval_file']))\n",
    "validation_dataset = validation_dataset.batch(\n",
    "  hparams['train_batch_size'])\n",
    "validation_dataset = validation_dataset.unbatch().batch(hparams['compress_batch_size'])"
   ]
  },
  {
   "cell_type": "code",
   "execution_count": null,
   "metadata": {},
   "outputs": [],
   "source": [
    "training_dataset = utils.load_training_files_tfrecords(\n",
    "  record_pattern=os.path.join(hparams['tfrecords_dir'], hparams['train_files'] + '*'))"
   ]
  },
  {
   "cell_type": "markdown",
   "metadata": {},
   "source": [
    "## Instantiate model and optimizer"
   ]
  },
  {
   "cell_type": "code",
   "execution_count": null,
   "metadata": {},
   "outputs": [],
   "source": [
    "myWaveGlow = WaveGlowInteger(hparams=hparams, name='myWaveGlow')\n",
    "optimizer = utils.get_optimizer(hparams=hparams)"
   ]
  },
  {
   "cell_type": "markdown",
   "metadata": {},
   "source": [
    "## Model Checkpoints : Initialise or Restore"
   ]
  },
  {
   "cell_type": "code",
   "execution_count": null,
   "metadata": {},
   "outputs": [],
   "source": [
    "checkpoint = tf.train.Checkpoint(step=tf.Variable(0), \n",
    "                                 optimizer=optimizer, \n",
    "                                 net=myWaveGlow)\n",
    "\n",
    "manager_checkpoint = tf.train.CheckpointManager(\n",
    "  checkpoint, \n",
    "  directory=hparams['checkpoint_dir'],\n",
    "  max_to_keep=hparams['max_to_keep'])\n",
    "\n",
    "checkpoint.restore(manager_checkpoint.latest_checkpoint)\n",
    "\n",
    "if manager_checkpoint.latest_checkpoint:\n",
    "  tf.summary.experimental.set_step(tf.cast(checkpoint.step, tf.int64))\n",
    "  tf.summary.text(name=\"checkpoint_restore\",\n",
    "                  data=\"Restored from {}\".format(manager_checkpoint.latest_checkpoint))\n",
    "else:\n",
    "  tf.summary.experimental.set_step(0)"
   ]
  },
  {
   "cell_type": "markdown",
   "metadata": {},
   "source": [
    "## Training step autograph"
   ]
  },
  {
   "cell_type": "code",
   "execution_count": null,
   "metadata": {},
   "outputs": [],
   "source": [
    "@tf.function\n",
    "def train_step(step, x_train, waveGlow, hparams, optimizer):\n",
    "  tf.summary.experimental.set_step(step=step)\n",
    "  with tf.GradientTape() as tape:\n",
    "    outputs = waveGlow(x_train, training=True)\n",
    "    total_loss = waveGlow.total_loss(outputs=outputs)\n",
    "\n",
    "  grads = tape.gradient(total_loss, \n",
    "                        waveGlow.trainable_weights)\n",
    "  optimizer.apply_gradients(zip(grads, \n",
    "                                waveGlow.trainable_weights))"
   ]
  },
  {
   "cell_type": "code",
   "execution_count": null,
   "metadata": {},
   "outputs": [],
   "source": [
    "def custom_training(waveGlow, hparams, optimizer, \n",
    "                    checkpoint, manager_checkpoint):\n",
    "  step = tf.cast(checkpoint.step, tf.int64)\n",
    "  \n",
    "  for epoch in tf.range(hparams['epochs']):\n",
    "    tf.summary.text(name='epoch',\n",
    "                    data='Start epoch {}'.format(epoch.numpy()) +\\\n",
    "                    'at ' + datetime.now().strftime(\"%Y%m%d-%H%M%S\"),\n",
    "                    step=step)\n",
    "    \n",
    "    for step, x_train in training_dataset.enumerate(start=step):\n",
    "      train_step(step=step,\n",
    "                 x_train=x_train,\n",
    "                 waveGlow=waveGlow,\n",
    "                 hparams=hparams,\n",
    "                 optimizer=optimizer)\n",
    "      \n",
    "      if tf.equal(step % hparams['save_model_every'], 0):\n",
    "        save_path = manager_checkpoint.save()\n",
    "        tf.summary.text(name='save_checkpoint',\n",
    "                        data=\"Saved checkpoint in\" + save_path,\n",
    "                        step=step)\n",
    "\n",
    "      if tf.equal(step > tf.constant(25000, dtype=tf.int64), True):\n",
    "        save_compression_every = 25000\n",
    "      elif tf.equal(step > tf.constant(5000, dtype=tf.int64), True):\n",
    "        save_compression_every = 5000\n",
    "      else:\n",
    "        save_compression_every = hparams['save_compression_every']\n",
    "\n",
    "      if tf.equal(step % save_compression_every, 0):\n",
    "        tf.print(f'Compression test {step}')\n",
    "        compress_samples(model=waveGlow, hparams=hparams, step=step, decode=False)\n",
    "        tf.print('End test')\n",
    "    \n",
    "      checkpoint.step.assign_add(1)"
   ]
  },
  {
   "cell_type": "code",
   "execution_count": null,
   "metadata": {},
   "outputs": [],
   "source": [
    "custom_training(waveGlow=myWaveGlow, \n",
    "                hparams=hparams, \n",
    "                optimizer=optimizer,\n",
    "                checkpoint=checkpoint,\n",
    "                manager_checkpoint=manager_checkpoint)"
   ]
  },
  {
   "cell_type": "code",
   "execution_count": null,
   "metadata": {},
   "outputs": [],
   "source": []
  }
 ],
 "metadata": {
  "kernelspec": {
   "display_name": "craystack",
   "language": "python",
   "name": "craystack"
  },
  "language_info": {
   "codemirror_mode": {
    "name": "ipython",
    "version": 3
   },
   "file_extension": ".py",
   "mimetype": "text/x-python",
   "name": "python",
   "nbconvert_exporter": "python",
   "pygments_lexer": "ipython3",
   "version": "3.7.6"
  }
 },
 "nbformat": 4,
 "nbformat_minor": 4
}
