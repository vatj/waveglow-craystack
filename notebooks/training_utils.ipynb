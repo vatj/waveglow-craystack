{
 "cells": [
  {
   "cell_type": "markdown",
   "metadata": {},
   "source": [
    "# Useful functions (needs refactoring)"
   ]
  },
  {
   "cell_type": "code",
   "execution_count": 28,
   "metadata": {},
   "outputs": [],
   "source": [
    "import os, sys\n",
    "root_dir, _ = os.path.split(os.getcwd())\n",
    "script_dir = os.path.join(root_dir, 'scripts')\n",
    "sys.path.append(script_dir)\n",
    "os.environ['CUDA_VISIBLE_DEVICES'] = '-1'"
   ]
  },
  {
   "cell_type": "code",
   "execution_count": 31,
   "metadata": {},
   "outputs": [],
   "source": [
    "import tensorflow as tf\n",
    "import numpy as np\n",
    "import pprint"
   ]
  },
  {
   "cell_type": "code",
   "execution_count": null,
   "metadata": {},
   "outputs": [],
   "source": [
    "from hparams import hparams"
   ]
  },
  {
   "cell_type": "markdown",
   "metadata": {},
   "source": [
    "## Dataset loading"
   ]
  },
  {
   "cell_type": "code",
   "execution_count": null,
   "metadata": {},
   "outputs": [],
   "source": [
    "sound_feature_description = {\n",
    "    \"wav\": tf.io.FixedLenFeature([], tf.string)\n",
    "}\n",
    "\n",
    "def _parse_sound_function(example_proto):\n",
    "  x = tf.io.parse_single_example(example_proto, sound_feature_description)\n",
    "  x['wav'] = tf.io.parse_tensor(x['wav'], out_type=hparams['ftype']) \n",
    "  return x\n",
    "\n",
    "long_sound_feature_description = {\n",
    "  \"wav\": tf.io.FixedLenFeature([], tf.string),\n",
    "  \"path\": tf.io.FixedLenFeature([], tf.string),\n",
    "  \"number_of_slices\": tf.io.FixedLenFeature([], tf.string)\n",
    "}\n",
    "\n",
    "def _parse_long_sound_function(example_proto):\n",
    "  x = tf.io.parse_single_example(example_proto, long_sound_feature_description)\n",
    "  x['wav'] = tf.io.parse_tensor(x['wav'], out_type=hparams['ftype'])\n",
    "  x['path'] = tf.io.parse_tensor(x['path'], out_type=tf.string)\n",
    "  x['number_of_slices'] = tf.io.parse_tensor(x['number_of_slices'], out_type=tf.int32)  \n",
    "  return x"
   ]
  },
  {
   "cell_type": "code",
   "execution_count": null,
   "metadata": {},
   "outputs": [],
   "source": [
    "def load_single_file_tfrecords(record_file):\n",
    "  raw_sound_dataset = tf.data.TFRecordDataset(record_file)\n",
    "  parsed_sound_dataset = raw_sound_dataset.map(_parse_sound_function)\n",
    "  return parsed_sound_dataset\n",
    "\n",
    "def load_long_audio_tfrecords(record_file):\n",
    "  raw_sound_dataset = tf.data.TFRecordDataset(record_file)\n",
    "  parsed_sound_dataset = raw_sound_dataset.map(_parse_long_sound_function)\n",
    "  return parsed_sound_dataset\n",
    "\n",
    "def load_training_files_tfrecords(record_pattern):\n",
    "  record_files = tf.data.TFRecordDataset.list_files(\n",
    "    file_pattern=record_pattern)\n",
    "  raw_sound_dataset = record_files.interleave(\n",
    "    tf.data.TFRecordDataset,\n",
    "    cycle_length=1,\n",
    "    num_parallel_calls=tf.data.experimental.AUTOTUNE)\n",
    "  parsed_sound_dataset = raw_sound_dataset.map(\n",
    "    _parse_sound_function,\n",
    "    num_parallel_calls=tf.data.experimental.AUTOTUNE)\n",
    "  \n",
    "  training_dataset = parsed_sound_dataset.shuffle(\n",
    "    buffer_size=hparams['buffer_size']).batch(\n",
    "    hparams['train_batch_size'],\n",
    "    drop_remainder=True).prefetch(\n",
    "    buffer_size=tf.data.experimental.AUTOTUNE)\n",
    "  \n",
    "  return training_dataset"
   ]
  },
  {
   "cell_type": "markdown",
   "metadata": {},
   "source": [
    "## Optimizer compatibility with tf.float16 (Not working yet)"
   ]
  },
  {
   "cell_type": "code",
   "execution_count": null,
   "metadata": {},
   "outputs": [],
   "source": [
    "def get_optimizer(hparams):\n",
    "  \"\"\"\n",
    "  Return optimizer instance based on hparams\n",
    "  \n",
    "  Wrap the optimizer to avoid underflow if ftype=tf.float16\n",
    "  \"\"\"\n",
    "  if hparams['optimizer'] == \"Adam\":\n",
    "    if hparams['learning_rate_decay']:\n",
    "      lr_schedule = tf.keras.optimizers.schedules.ExponentialDecay(\n",
    "        hparams['learning_rate'],\n",
    "        decay_steps=200000,\n",
    "        decay_rate=0.99,\n",
    "        staircase=True)\n",
    "      optimizer = tf.keras.optimizers.Adam(\n",
    "      learning_rate=lr_schedule)\n",
    "    else:\n",
    "      optimizer = tf.keras.optimizers.Adam(\n",
    "        learning_rate=hparams[\"learning_rate\"])\n",
    "\n",
    "  elif hparams['optimizer'] == \"Adadelta\":\n",
    "    assert(hparams[\"learning_rate\"] == 1.0), \"Set learning_rate to 1.0\"\n",
    "    optimizer = tf.keras.optimizers.Adadelta(\n",
    "      learning_rate=hparams['learning_rate'])\n",
    "  else:\n",
    "    raise ValueError(\"Supported Optimizer is either Adam or Adadelta\")\n",
    "    \n",
    "  if hparams[\"mixed_precision\"]:\n",
    "    return tf.train.experimental.enable_mixed_precision_graph_rewrite(\n",
    "      optimizer, \"dynamic\")\n",
    "  else:\n",
    "    return optimizer"
   ]
  },
  {
   "cell_type": "markdown",
   "metadata": {},
   "source": [
    "## Discrete Logistic Mixture Helpers"
   ]
  },
  {
   "cell_type": "code",
   "execution_count": null,
   "metadata": {},
   "outputs": [],
   "source": [
    "def log_sum_exp(x):\n",
    "  \"\"\" numerically stable log_sum_exp implementation that prevents overflow \"\"\"\n",
    "  axis = len(x.shape)-1\n",
    "  m = tf.reduce_max(x, axis)\n",
    "  m2 = tf.reduce_max(x, axis, keepdims=True)\n",
    "  return m + tf.math.log(tf.reduce_sum(tf.math.exp(x-m2), axis))\n",
    "\n",
    "def log_prob_from_logits(x):\n",
    "  \"\"\" numerically stable log_softmax implementation that prevents overflow \"\"\"\n",
    "  axis = len(x.shape)-1\n",
    "  m = tf.reduce_max(x, axis, keepdims=True)\n",
    "  return x - m - tf.math.log(tf.reduce_sum(tf.math.exp(x-m), axis, keepdims=True))"
   ]
  },
  {
   "cell_type": "markdown",
   "metadata": {},
   "source": [
    "## Straight-through estimator"
   ]
  },
  {
   "cell_type": "code",
   "execution_count": null,
   "metadata": {},
   "outputs": [],
   "source": [
    "@tf.custom_gradient\n",
    "def round_ste(x):\n",
    "  def grad(dy):\n",
    "    return dy\n",
    "  return tf.round(x), grad"
   ]
  },
  {
   "cell_type": "markdown",
   "metadata": {},
   "source": [
    "## Integer values"
   ]
  },
  {
   "cell_type": "code",
   "execution_count": null,
   "metadata": {},
   "outputs": [],
   "source": []
  }
 ],
 "metadata": {
  "kernelspec": {
   "display_name": "waveglow-compression",
   "language": "python",
   "name": "waveglow-compression"
  },
  "language_info": {
   "codemirror_mode": {
    "name": "ipython",
    "version": 3
   },
   "file_extension": ".py",
   "mimetype": "text/x-python",
   "name": "python",
   "nbconvert_exporter": "python",
   "pygments_lexer": "ipython3",
   "version": "3.7.4"
  }
 },
 "nbformat": 4,
 "nbformat_minor": 4
}
